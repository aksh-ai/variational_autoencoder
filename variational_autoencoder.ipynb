{
  "nbformat": 4,
  "nbformat_minor": 0,
  "metadata": {
    "colab": {
      "name": "variational_autoencoder.ipynb",
      "provenance": [],
      "collapsed_sections": []
    },
    "kernelspec": {
      "name": "python3",
      "display_name": "Python 3"
    },
    "accelerator": "GPU"
  },
  "cells": [
    {
      "cell_type": "markdown",
      "metadata": {
        "id": "0yU9SYTgT843",
        "colab_type": "text"
      },
      "source": [
        "# Variational Autoencoder"
      ]
    },
    {
      "cell_type": "markdown",
      "metadata": {
        "id": "S7QS3TPRT_8e",
        "colab_type": "text"
      },
      "source": [
        "## Necessary imports"
      ]
    },
    {
      "cell_type": "code",
      "metadata": {
        "id": "79eSuZEBTyHx",
        "colab_type": "code",
        "colab": {}
      },
      "source": [
        "import numpy as np\n",
        "import pandas as pd\n",
        "import tensorflow as tf\n",
        "from sklearn.utils import shuffle\n",
        "import matplotlib.pyplot as plt\n",
        "%matplotlib inline"
      ],
      "execution_count": 0,
      "outputs": []
    },
    {
      "cell_type": "code",
      "metadata": {
        "id": "3f6tEI3lUsYA",
        "colab_type": "code",
        "colab": {
          "base_uri": "https://localhost:8080/",
          "height": 55
        },
        "outputId": "337d74ea-07e6-4429-b888-60975919a80c"
      },
      "source": [
        "from google.colab import drive\n",
        "drive.mount('/content/drive')"
      ],
      "execution_count": 2,
      "outputs": [
        {
          "output_type": "stream",
          "text": [
            "Drive already mounted at /content/drive; to attempt to forcibly remount, call drive.mount(\"/content/drive\", force_remount=True).\n"
          ],
          "name": "stdout"
        }
      ]
    },
    {
      "cell_type": "markdown",
      "metadata": {
        "id": "4Q8wDMDmUtHM",
        "colab_type": "text"
      },
      "source": [
        "## Load the Dataset"
      ]
    },
    {
      "cell_type": "code",
      "metadata": {
        "id": "pUUBJ5BOUwFQ",
        "colab_type": "code",
        "colab": {}
      },
      "source": [
        "df = pd.read_csv('/content/drive/My Drive/Colab Notebooks/train.csv')"
      ],
      "execution_count": 0,
      "outputs": []
    },
    {
      "cell_type": "code",
      "metadata": {
        "id": "nba_CLTmUy3V",
        "colab_type": "code",
        "colab": {}
      },
      "source": [
        "data = df.values"
      ],
      "execution_count": 0,
      "outputs": []
    },
    {
      "cell_type": "markdown",
      "metadata": {
        "id": "p1CC3OW8pctz",
        "colab_type": "text"
      },
      "source": [
        "## Pre-processing "
      ]
    },
    {
      "cell_type": "markdown",
      "metadata": {
        "id": "vZUMObavVJfb",
        "colab_type": "text"
      },
      "source": [
        "Standardize"
      ]
    },
    {
      "cell_type": "code",
      "metadata": {
        "id": "3WVsAkgIU1ZB",
        "colab_type": "code",
        "colab": {}
      },
      "source": [
        "X = data[:, 1:] / 255.0\n",
        "y = data[:, 0]"
      ],
      "execution_count": 0,
      "outputs": []
    },
    {
      "cell_type": "markdown",
      "metadata": {
        "id": "HdZBBeuiVL6x",
        "colab_type": "text"
      },
      "source": [
        "Shuffle"
      ]
    },
    {
      "cell_type": "code",
      "metadata": {
        "id": "OWm0CQL9U4KA",
        "colab_type": "code",
        "colab": {}
      },
      "source": [
        "X_train, y_train = shuffle(X, y)"
      ],
      "execution_count": 0,
      "outputs": []
    },
    {
      "cell_type": "markdown",
      "metadata": {
        "id": "IBCD_7j3VNj0",
        "colab_type": "text"
      },
      "source": [
        "Required dimensions"
      ]
    },
    {
      "cell_type": "code",
      "metadata": {
        "id": "DeflGVWMU7t6",
        "colab_type": "code",
        "colab": {}
      },
      "source": [
        "D = X_train.shape[1]\n",
        "M = [200, 100]"
      ],
      "execution_count": 0,
      "outputs": []
    },
    {
      "cell_type": "markdown",
      "metadata": {
        "id": "Vkort97cn1I7",
        "colab_type": "text"
      },
      "source": [
        "Convert X_train to binary variable"
      ]
    },
    {
      "cell_type": "code",
      "metadata": {
        "id": "UOMCAtR8gZr5",
        "colab_type": "code",
        "colab": {}
      },
      "source": [
        "X_train = (X_train>0.5).astype(np.float32)"
      ],
      "execution_count": 0,
      "outputs": []
    },
    {
      "cell_type": "markdown",
      "metadata": {
        "id": "okjnXr4JVWPU",
        "colab_type": "text"
      },
      "source": [
        "## Building the Variational Autoencoder"
      ]
    },
    {
      "cell_type": "markdown",
      "metadata": {
        "id": "j4hUW20xpm3U",
        "colab_type": "text"
      },
      "source": [
        "**Dense Class:** Create dense layers of given size as needed, dynamically"
      ]
    },
    {
      "cell_type": "code",
      "metadata": {
        "id": "XM4fJpJQYQFF",
        "colab_type": "code",
        "colab": {}
      },
      "source": [
        "class Dense(object):\n",
        "  def __init__(self, X1, X2, function=tf.nn.relu):\n",
        "    self.X1 = X1\n",
        "    self.X2 = X2\n",
        "\n",
        "    self.W = tf.Variable(tf.random_normal(shape=(self.X1, self.X2)) * 2 / np.sqrt(X1))\n",
        "    self.b = tf.Variable(tf.zeros(X2))\n",
        "    self.out = function\n",
        "\n",
        "  def forward(self, X):\n",
        "    return self.out(tf.matmul(X, self.W) + self.b)  "
      ],
      "execution_count": 0,
      "outputs": []
    },
    {
      "cell_type": "markdown",
      "metadata": {
        "id": "4zfP3klNp4KI",
        "colab_type": "text"
      },
      "source": [
        "**variationalAutoencoder Class:** Our Varitional Autoencoder model"
      ]
    },
    {
      "cell_type": "code",
      "metadata": {
        "id": "rM5MzwoAZJLA",
        "colab_type": "code",
        "colab": {}
      },
      "source": [
        "class variationalAutoencoder:\n",
        "  def __init__(self, D, hidden_size):\n",
        "    # list to store training loss at each step\n",
        "    self.losses = []\n",
        "\n",
        "    # batch of trianing data\n",
        "    self.X = tf.placeholder(tf.float32, shape=(None, D))\n",
        "\n",
        "    # encoder\n",
        "    # NN layers of the encoder\n",
        "    self.encoder_layers = []\n",
        "\n",
        "    # input to encoder\n",
        "    enc_in = D\n",
        "\n",
        "    # create encoder layers for the input\n",
        "    for enc_out in hidden_size[:-1]:\n",
        "      layer = Dense(enc_in, enc_out)\n",
        "      self.encoder_layers.append(layer)\n",
        "      enc_in = enc_out\n",
        "\n",
        "    # final encoder size\n",
        "    M = hidden_size[-1]\n",
        "\n",
        "    # final output layer\n",
        "    new_layer = Dense(enc_in, 2*M, function=lambda x: x)\n",
        "    self.encoder_layers.append(new_layer)\n",
        "\n",
        "    # forward through layers and apply softplus activation finally\n",
        "    layer_val = self.X\n",
        "    for layer in self.encoder_layers:\n",
        "      layer_val = layer.forward(layer_val)\n",
        "\n",
        "    # mean  \n",
        "    self.mu = layer_val[:, :M]\n",
        "    # standard deviation (softplus to avoid negative values generated by NN)\n",
        "    self.sigma = tf.nn.softplus(layer_val[:, M:]) + 1e-6\n",
        "\n",
        "    # get a sample of z\n",
        "    std_normal = tf.contrib.distributions.Normal(loc= tf.zeros(M), scale=tf.ones(M))\n",
        "    e = std_normal.sample(tf.shape(self.mu)[0])\n",
        "\n",
        "    self.z = e * self.sigma + self.mu\n",
        "\n",
        "    # decoder\n",
        "    # NN layers of the decoder\n",
        "    self.decoder_layers = []\n",
        "\n",
        "    # input M to decoder\n",
        "    dec_in = M\n",
        "    for dec_out in reversed(hidden_size[:-1]):\n",
        "      layers = Dense(dec_in, dec_out)\n",
        "      self.decoder_layers.append(layers)\n",
        "      dec_in = dec_out\n",
        "\n",
        "    # final decoder layer\n",
        "    new_layer = Dense(dec_in, D, function=lambda x: x)\n",
        "    self.decoder_layers.append(new_layer)\n",
        "\n",
        "    # posterior predictive\n",
        "    layer_val = self.z\n",
        "    for layer in self.decoder_layers:\n",
        "      layer_val = layer.forward(layer_val)\n",
        "    logits = layer_val\n",
        "    post_pred_logits = logits\n",
        "\n",
        "    # create a bernoulli distirbution\n",
        "    self.X_hat_distrib = tf.contrib.distributions.Bernoulli(logits=logits) \n",
        "\n",
        "    self.post_pred = self.X_hat_distrib.sample()\n",
        "    self.post_pred_prob = tf.nn.sigmoid(logits)\n",
        "\n",
        "    # get a sample of z\n",
        "    std_normal = tf.contrib.distributions.Normal(loc= tf.zeros(M), scale=tf.ones(M))\n",
        "\n",
        "    z_sigma = std_normal.sample(1)\n",
        "\n",
        "    # prior predictive\n",
        "    layer_val = z_sigma\n",
        "    for layer in self.decoder_layers:\n",
        "      layer_val = layer.forward(layer_val)\n",
        "    logits = layer_val\n",
        "\n",
        "    prior_pred_distrib = tf.contrib.distributions.Bernoulli(logits=logits)\n",
        "    self.prior_pred = prior_pred_distrib.sample()\n",
        "    self.prior_pred_prob = tf.nn.sigmoid(logits)\n",
        "\n",
        "    # prior predicitive with input\n",
        "    self.z_in = tf.placeholder(tf.float32, shape=(None, M))\n",
        "    layer_val = self.z_in\n",
        "    for layer in self.decoder_layers:\n",
        "      layer_val = layer.forward(layer_val)\n",
        "    logits = layer_val\n",
        "    self.prior_pred_in_prob = tf.nn.sigmoid(logits)  \n",
        "\n",
        "    # loss function ELBO\n",
        "    # KL Divergence\n",
        "    kl = -tf.log(self.sigma) + 0.5 * (self.sigma**2 + self.mu**2) - 0.5\n",
        "    kl = tf.reduce_sum(kl, axis=1)\n",
        "\n",
        "    # Expected log likelihood\n",
        "    expected = tf.reduce_sum(self.X_hat_distrib.log_prob(self.X), axis=1)\n",
        "\n",
        "    # loss operation, reduce ELBO loss \n",
        "    self.loss_operation = tf.reduce_sum(expected - kl)\n",
        "\n",
        "    # train operation, minimze ELBO\n",
        "    self.train_operation = tf.train.RMSPropOptimizer(learning_rate=0.001).minimize(-self.loss_operation)\n",
        "\n",
        "    # session and variables initialization\n",
        "    self.init_operation = tf.global_variables_initializer()\n",
        "    self.sess = tf.Session()\n",
        "    self.sess.run(self.init_operation)\n",
        "\n",
        "    # model saver object\n",
        "    self.saver = tf.train.Saver()\n",
        "\n",
        "  def fit(self, X, epochs=30, batch_size=64):\n",
        "    # number of batches (or) step size\n",
        "    num_batches = len(X) // batch_size\n",
        "    print('Training...')\n",
        "\n",
        "    for e in range(epochs):\n",
        "      print(\"Epoch {}\".format(e+1))\n",
        "      # shuffle training data at each epoch\n",
        "      np.random.shuffle(X)\n",
        "\n",
        "      # create new batch at each step and train \n",
        "      for offset in range(num_batches):\n",
        "        new_batch = X[offset*batch_size:(offset+1)*batch_size]\n",
        "        a, l = self.sess.run((self.train_operation, self.loss_operation), feed_dict={self.X: new_batch})\n",
        "        l /= batch_size\n",
        "        self.losses.append(l)\n",
        "      print(\"Loss: %.2f\" % self.losses[e])  \n",
        "\n",
        "  def transform(self, X):\n",
        "    # transform function\n",
        "    return self.sess.run(self.mu, feed_dict={self.X: X})\n",
        "\n",
        "  def prior_predict(self, z):\n",
        "    # prior predictive with input function\n",
        "    return self.sess.run(self.prior_pred_in_prob, feed_dict={self.z_in: z})\n",
        "\n",
        "  def post_predict(self, X):\n",
        "    # posterior predictive with input function\n",
        "    return self.sess.run(self.post_pred, feed_dict={self.X: X})\n",
        "\n",
        "  def prior_sample_prob(self):\n",
        "    # prior predictive function\n",
        "    return self.sess.run((self.prior_pred, self.prior_pred_prob))\n",
        "\n",
        "  def save_weights(self, path):\n",
        "    # save the model's parameters/weights\n",
        "    self.saver.save(self.sess, path)\n",
        "    print(\"Saved successfully\")"
      ],
      "execution_count": 0,
      "outputs": []
    },
    {
      "cell_type": "markdown",
      "metadata": {
        "id": "8-2LJOrdoDNZ",
        "colab_type": "text"
      },
      "source": [
        "## Train the Variational Autoencoder"
      ]
    },
    {
      "cell_type": "markdown",
      "metadata": {
        "id": "gWMXTzSLoFoQ",
        "colab_type": "text"
      },
      "source": [
        "Instantiate the Variational Autoencoder model"
      ]
    },
    {
      "cell_type": "code",
      "metadata": {
        "id": "HfySD9TAgSRv",
        "colab_type": "code",
        "colab": {}
      },
      "source": [
        "model = variationalAutoencoder(D, M)"
      ],
      "execution_count": 0,
      "outputs": []
    },
    {
      "cell_type": "markdown",
      "metadata": {
        "id": "rttUcQR3oM0y",
        "colab_type": "text"
      },
      "source": [
        "Train the model"
      ]
    },
    {
      "cell_type": "code",
      "metadata": {
        "id": "jUF-vClugXoH",
        "colab_type": "code",
        "colab": {
          "base_uri": "https://localhost:8080/",
          "height": 1000
        },
        "outputId": "b6d78325-0f49-46e1-f502-c2ebd640dc06"
      },
      "source": [
        "model.fit(X_train)"
      ],
      "execution_count": 12,
      "outputs": [
        {
          "output_type": "stream",
          "text": [
            "Training...\n",
            "Epoch 1\n",
            "Loss: -1358.36\n",
            "Epoch 2\n",
            "Loss: -908.41\n",
            "Epoch 3\n",
            "Loss: -780.13\n",
            "Epoch 4\n",
            "Loss: -712.02\n",
            "Epoch 5\n",
            "Loss: -676.45\n",
            "Epoch 6\n",
            "Loss: -636.95\n",
            "Epoch 7\n",
            "Loss: -612.93\n",
            "Epoch 8\n",
            "Loss: -578.22\n",
            "Epoch 9\n",
            "Loss: -561.39\n",
            "Epoch 10\n",
            "Loss: -541.05\n",
            "Epoch 11\n",
            "Loss: -531.33\n",
            "Epoch 12\n",
            "Loss: -509.39\n",
            "Epoch 13\n",
            "Loss: -498.50\n",
            "Epoch 14\n",
            "Loss: -488.73\n",
            "Epoch 15\n",
            "Loss: -473.40\n",
            "Epoch 16\n",
            "Loss: -453.06\n",
            "Epoch 17\n",
            "Loss: -437.23\n",
            "Epoch 18\n",
            "Loss: -434.84\n",
            "Epoch 19\n",
            "Loss: -411.33\n",
            "Epoch 20\n",
            "Loss: -392.14\n",
            "Epoch 21\n",
            "Loss: -405.40\n",
            "Epoch 22\n",
            "Loss: -375.63\n",
            "Epoch 23\n",
            "Loss: -365.99\n",
            "Epoch 24\n",
            "Loss: -360.73\n",
            "Epoch 25\n",
            "Loss: -364.14\n",
            "Epoch 26\n",
            "Loss: -376.22\n",
            "Epoch 27\n",
            "Loss: -345.22\n",
            "Epoch 28\n",
            "Loss: -352.45\n",
            "Epoch 29\n",
            "Loss: -349.11\n",
            "Epoch 30\n",
            "Loss: -339.04\n"
          ],
          "name": "stdout"
        }
      ]
    },
    {
      "cell_type": "markdown",
      "metadata": {
        "id": "8EqzwxMSoRKD",
        "colab_type": "text"
      },
      "source": [
        "## Evaluation"
      ]
    },
    {
      "cell_type": "markdown",
      "metadata": {
        "id": "JITNheuToU8c",
        "colab_type": "text"
      },
      "source": [
        "Plot the Variational Autoencoder loss"
      ]
    },
    {
      "cell_type": "code",
      "metadata": {
        "id": "cjIs0x7Igrco",
        "colab_type": "code",
        "colab": {
          "base_uri": "https://localhost:8080/",
          "height": 299
        },
        "outputId": "1ee34ff8-d31f-4405-f86d-0faf3bf8d92d"
      },
      "source": [
        "plt.plot(model.losses, label='Loss')\n",
        "plt.title('VAE loss')\n",
        "plt.legend()"
      ],
      "execution_count": 13,
      "outputs": [
        {
          "output_type": "execute_result",
          "data": {
            "text/plain": [
              "<matplotlib.legend.Legend at 0x7f717264c978>"
            ]
          },
          "metadata": {
            "tags": []
          },
          "execution_count": 13
        },
        {
          "output_type": "display_data",
          "data": {
            "image/png": "[encoded data removed]",
            "text/plain": [
              "<Figure size 432x288 with 1 Axes>"
            ]
          },
          "metadata": {
            "tags": []
          }
        }
      ]
    },
    {
      "cell_type": "markdown",
      "metadata": {
        "id": "JmNcWBc-oYX3",
        "colab_type": "text"
      },
      "source": [
        "Visualize original and variational autoencoder generated image"
      ]
    },
    {
      "cell_type": "code",
      "metadata": {
        "id": "SEWNgETvgdkG",
        "colab_type": "code",
        "colab": {
          "base_uri": "https://localhost:8080/",
          "height": 235
        },
        "outputId": "ade10cdb-30c4-47d9-b932-d97dc363d821"
      },
      "source": [
        "i = np.random.choice(len(X_train))\n",
        "x = X_train[i]\n",
        "\n",
        "img = model.post_predict([x]).reshape(28, 28)\n",
        "\n",
        "plt.subplot(1,2,1)\n",
        "plt.imshow(x.reshape(28, 28), cmap='gray')\n",
        "plt.title(\"Original\")\n",
        "\n",
        "plt.subplot(1,2,2)\n",
        "plt.imshow(img, cmap='gray')\n",
        "plt.title(\"Generated\")"
      ],
      "execution_count": 14,
      "outputs": [
        {
          "output_type": "execute_result",
          "data": {
            "text/plain": [
              "Text(0.5, 1.0, 'Generated')"
            ]
          },
          "metadata": {
            "tags": []
          },
          "execution_count": 14
        },
        {
          "output_type": "display_data",
          "data": {
            "image/png": "[encoded data removed]",
            "text/plain": [
              "<Figure size 432x288 with 2 Axes>"
            ]
          },
          "metadata": {
            "tags": []
          }
        }
      ]
    },
    {
      "cell_type": "markdown",
      "metadata": {
        "id": "PQLtRmi2ofLd",
        "colab_type": "text"
      },
      "source": [
        "Visualize variational autoencoder prior predicitive image from model's distribution"
      ]
    },
    {
      "cell_type": "code",
      "metadata": {
        "id": "vLsbPWLHjeDC",
        "colab_type": "code",
        "colab": {
          "base_uri": "https://localhost:8080/",
          "height": 235
        },
        "outputId": "7bd6fec8-2ed6-492a-90a2-e4f94a2de7ee"
      },
      "source": [
        "img, prob = model.prior_sample_prob()\n",
        "\n",
        "img = img.reshape(28, 28)\n",
        "probs = prob.reshape(28, 28)\n",
        "\n",
        "plt.subplot(1,2,1)\n",
        "plt.imshow(img, cmap='gray')\n",
        "plt.title(\"Prior Predictive Sample\")\n",
        "\n",
        "plt.subplot(1,2,2)\n",
        "plt.imshow(probs, cmap='gray')\n",
        "plt.title(\"Prior Predictive Generated\")"
      ],
      "execution_count": 30,
      "outputs": [
        {
          "output_type": "execute_result",
          "data": {
            "text/plain": [
              "Text(0.5, 1.0, 'Prior Predictive Generated')"
            ]
          },
          "metadata": {
            "tags": []
          },
          "execution_count": 30
        },
        {
          "output_type": "display_data",
          "data": {
            "image/png": "[encoded data removed]",
            "text/plain": [
              "<Figure size 432x288 with 2 Axes>"
            ]
          },
          "metadata": {
            "tags": []
          }
        }
      ]
    },
    {
      "cell_type": "markdown",
      "metadata": {
        "id": "IAMB69Llon63",
        "colab_type": "text"
      },
      "source": [
        "## Save the model"
      ]
    },
    {
      "cell_type": "code",
      "metadata": {
        "id": "HIJ49pZjopcV",
        "colab_type": "code",
        "colab": {
          "base_uri": "https://localhost:8080/",
          "height": 35
        },
        "outputId": "ecbeb69a-3f69-442d-8716-8985b2ac4d58"
      },
      "source": [
        "model.save_weights('/content/drive/My Drive/Colab Notebooks/models/variational_autoencoder/')"
      ],
      "execution_count": 16,
      "outputs": [
        {
          "output_type": "stream",
          "text": [
            "Saved successfully\n"
          ],
          "name": "stdout"
        }
      ]
    },
    {
      "cell_type": "markdown",
      "metadata": {
        "id": "EYFFmkt7scoH",
        "colab_type": "text"
      },
      "source": [
        "## Visualizing the Latent Space"
      ]
    },
    {
      "cell_type": "code",
      "metadata": {
        "id": "cvMBoEnasfX7",
        "colab_type": "code",
        "colab": {}
      },
      "source": [
        "model = variationalAutoencoder(D, [200, 100, 2])"
      ],
      "execution_count": 0,
      "outputs": []
    },
    {
      "cell_type": "code",
      "metadata": {
        "id": "OiecoyJ0sjs9",
        "colab_type": "code",
        "colab": {
          "base_uri": "https://localhost:8080/",
          "height": 1000
        },
        "outputId": "953b05ca-2bf0-4711-b44d-2442c2121c64"
      },
      "source": [
        "model.fit(X_train)"
      ],
      "execution_count": 18,
      "outputs": [
        {
          "output_type": "stream",
          "text": [
            "Training...\n",
            "Epoch 1\n",
            "Loss: -2947.88\n",
            "Epoch 2\n",
            "Loss: -3086.58\n",
            "Epoch 3\n",
            "Loss: -1009.95\n",
            "Epoch 4\n",
            "Loss: -941.62\n",
            "Epoch 5\n",
            "Loss: -821.91\n",
            "Epoch 6\n",
            "Loss: -697.46\n",
            "Epoch 7\n",
            "Loss: -696.84\n",
            "Epoch 8\n",
            "Loss: -615.36\n",
            "Epoch 9\n",
            "Loss: -615.50\n",
            "Epoch 10\n",
            "Loss: -626.62\n",
            "Epoch 11\n",
            "Loss: -572.93\n",
            "Epoch 12\n",
            "Loss: -562.07\n",
            "Epoch 13\n",
            "Loss: -538.86\n",
            "Epoch 14\n",
            "Loss: -510.48\n",
            "Epoch 15\n",
            "Loss: -489.83\n",
            "Epoch 16\n",
            "Loss: -473.85\n",
            "Epoch 17\n",
            "Loss: -438.56\n",
            "Epoch 18\n",
            "Loss: -433.12\n",
            "Epoch 19\n",
            "Loss: -391.33\n",
            "Epoch 20\n",
            "Loss: -383.96\n",
            "Epoch 21\n",
            "Loss: -368.03\n",
            "Epoch 22\n",
            "Loss: -348.95\n",
            "Epoch 23\n",
            "Loss: -312.96\n",
            "Epoch 24\n",
            "Loss: -309.35\n",
            "Epoch 25\n",
            "Loss: -284.52\n",
            "Epoch 26\n",
            "Loss: -275.46\n",
            "Epoch 27\n",
            "Loss: -265.38\n",
            "Epoch 28\n",
            "Loss: -262.64\n",
            "Epoch 29\n",
            "Loss: -250.17\n",
            "Epoch 30\n",
            "Loss: -252.24\n"
          ],
          "name": "stdout"
        }
      ]
    },
    {
      "cell_type": "code",
      "metadata": {
        "id": "0Sg03sI7spPT",
        "colab_type": "code",
        "colab": {}
      },
      "source": [
        "n = 20"
      ],
      "execution_count": 0,
      "outputs": []
    },
    {
      "cell_type": "code",
      "metadata": {
        "id": "0X_DvcRjs6Nr",
        "colab_type": "code",
        "colab": {}
      },
      "source": [
        "x_val = np.linspace(-3, 3, n)\n",
        "y_val = np.linspace(-3, 3, n)\n",
        "img = np.empty((28*n, 28*n))"
      ],
      "execution_count": 0,
      "outputs": []
    },
    {
      "cell_type": "code",
      "metadata": {
        "id": "KuuEomE5s6xE",
        "colab_type": "code",
        "colab": {}
      },
      "source": [
        "Z = []\n",
        "\n",
        "for i, x in enumerate(x_val):\n",
        "  for j, y in enumerate(y_val):\n",
        "    z = [x, y]\n",
        "    Z.append(z)"
      ],
      "execution_count": 0,
      "outputs": []
    },
    {
      "cell_type": "code",
      "metadata": {
        "id": "0t8Yjn-ttLar",
        "colab_type": "code",
        "colab": {}
      },
      "source": [
        "X_k = model.prior_predict(Z)"
      ],
      "execution_count": 0,
      "outputs": []
    },
    {
      "cell_type": "code",
      "metadata": {
        "id": "qTaT1NHYtRx_",
        "colab_type": "code",
        "colab": {}
      },
      "source": [
        "k = 0\n",
        "\n",
        "for i, x in enumerate(x_val):\n",
        "  for j, y in enumerate(y_val):\n",
        "    x_visu = X_k[k]\n",
        "    k+=1\n",
        "    x_visu = x_visu.reshape(28, 28)\n",
        "    img[(n-i-1)*28:(n-i)*28, j*28:(j+1)*28] = x_visu"
      ],
      "execution_count": 0,
      "outputs": []
    },
    {
      "cell_type": "code",
      "metadata": {
        "id": "7OG5mvJ2tryc",
        "colab_type": "code",
        "colab": {
          "base_uri": "https://localhost:8080/",
          "height": 287
        },
        "outputId": "583f7587-ba11-4657-801f-ef8586b0014b"
      },
      "source": [
        "plt.imshow(img, cmap='gray')"
      ],
      "execution_count": 29,
      "outputs": [
        {
          "output_type": "execute_result",
          "data": {
            "text/plain": [
              "<matplotlib.image.AxesImage at 0x7f7166502fd0>"
            ]
          },
          "metadata": {
            "tags": []
          },
          "execution_count": 29
        },
        {
          "output_type": "display_data",
          "data": {
            "image/png": "[encoded data removed]",
            "text/plain": [
              "<Figure size 432x288 with 1 Axes>"
            ]
          },
          "metadata": {
            "tags": []
          }
        }
      ]
    }
  ]
}